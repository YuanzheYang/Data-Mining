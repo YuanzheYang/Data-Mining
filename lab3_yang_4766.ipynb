{
 "cells": [
  {
   "cell_type": "markdown",
   "metadata": {},
   "source": [
    "# CSE 5243: Introduction to Data Mining"
   ]
  },
  {
   "cell_type": "markdown",
   "metadata": {},
   "source": [
    "## Lab 2: Comparing Classifiers ( Individual Part )"
   ]
  },
  {
   "cell_type": "markdown",
   "metadata": {},
   "source": [
    "### Allen Yang\n",
    "### 9/30/2018"
   ]
  },
  {
   "cell_type": "code",
   "execution_count": 1,
   "metadata": {},
   "outputs": [],
   "source": [
    "import pandas as pd\n",
    "import numpy as np\n",
    "import matplotlib.pyplot as plt\n",
    "import seaborn as sns\n"
   ]
  },
  {
   "cell_type": "code",
   "execution_count": 2,
   "metadata": {},
   "outputs": [],
   "source": [
    "cols = ['Class','Alcohol','Malic acid','Ash','Alcalinity of ash','Magnesium',\n",
    "        'Total phenols','Flavanoids','Nonflavanoid phenols','Proanthocyanins',\n",
    "        'Color intensity','Hue','OD280/OD315 of diluted wines','Proline']"
   ]
  },
  {
   "cell_type": "code",
   "execution_count": 3,
   "metadata": {},
   "outputs": [],
   "source": [
    "df = pd.read_csv('wine.data',names=cols)"
   ]
  },
  {
   "cell_type": "code",
   "execution_count": 4,
   "metadata": {},
   "outputs": [
    {
     "data": {
      "text/plain": [
       "(178, 13)"
      ]
     },
     "execution_count": 4,
     "metadata": {},
     "output_type": "execute_result"
    }
   ],
   "source": [
    "from sklearn.decomposition import PCA\n",
    "from sklearn.preprocessing import StandardScaler\n",
    "X = df.loc[:,'Alcohol':]\n",
    "X_scaler = StandardScaler()\n",
    "X = X_scaler.fit_transform(X)\n",
    "y = df['Class'].values.reshape(-1,)\n",
    "# PCA\n",
    "#pca = PCA(n_components=0.92)\n",
    "#pca.fit(X)\n",
    "#X = pca.transform(X)\n",
    "X.shape"
   ]
  },
  {
   "cell_type": "code",
   "execution_count": 5,
   "metadata": {},
   "outputs": [
    {
     "data": {
      "text/plain": [
       "(178, 14)"
      ]
     },
     "execution_count": 5,
     "metadata": {},
     "output_type": "execute_result"
    }
   ],
   "source": [
    "df.shape"
   ]
  },
  {
   "cell_type": "code",
   "execution_count": 6,
   "metadata": {},
   "outputs": [],
   "source": [
    "from sklearn.model_selection import train_test_split\n",
    "X_train, X_test, Y_train, Y_test = train_test_split(X, y, test_size=0.2)"
   ]
  },
  {
   "cell_type": "code",
   "execution_count": 34,
   "metadata": {},
   "outputs": [
    {
     "name": "stdout",
     "output_type": "stream",
     "text": [
      "train_index: [  0   2   3   4   5   8   9  10  11  14  15  16  18  19  20  21  23  24\n",
      "  25  27  28  29  30  31  32  33  34  35  36  37  38  39  40  41  42  43\n",
      "  44  46  47  49  51  52  53  55  56  57  58  60  61  62  63  64  65  66\n",
      "  67  68  69  72  74  75  76  77  78  79  81  82  83  84  85  86  87  88\n",
      "  89  90  91  92  93  94  95  96  97  99 102 104 105 106 107 109 112 114\n",
      " 115 117 118 119 120 121 122 123 124 125 126 127 128 130 131 132 134 136\n",
      " 137 138 139 140 141]\n",
      "val_index: [  1   6   7  12  13  17  22  26  45  48  50  54  59  70  71  73  80  98\n",
      " 100 101 103 108 110 111 113 116 129 133 135]\n",
      "\n",
      "train_index: [  0   1   2   3   5   6   7   8   9  10  11  12  13  15  16  17  18  21\n",
      "  22  24  25  26  27  28  30  31  32  33  35  37  38  39  40  41  43  44\n",
      "  45  46  47  48  49  50  52  54  56  58  59  60  62  63  64  65  66  67\n",
      "  68  69  70  71  72  73  74  75  77  78  79  80  81  83  84  86  87  88\n",
      "  90  91  92  93  94  95  96  97  98  99 100 101 103 104 107 108 109 110\n",
      " 111 112 113 114 115 116 117 118 119 120 122 123 124 126 128 129 130 131\n",
      " 132 133 134 135 141]\n",
      "val_index: [  4  14  19  20  23  29  34  36  42  51  53  55  57  61  76  82  85  89\n",
      " 102 105 106 121 125 127 136 137 138 139 140]\n",
      "\n",
      "train_index: [  0   1   2   4   6   7   9  10  12  13  14  15  16  17  18  19  20  21\n",
      "  22  23  25  26  27  28  29  31  32  34  36  37  38  39  40  41  42  43\n",
      "  45  46  48  49  50  51  53  54  55  56  57  59  60  61  62  64  65  66\n",
      "  67  68  70  71  72  73  74  75  76  78  79  80  82  83  84  85  88  89\n",
      "  90  91  93  94  96  97  98  99 100 101 102 103 105 106 108 109 110 111\n",
      " 113 114 115 116 117 118 120 121 122 123 124 125 126 127 128 129 130 133\n",
      " 135 136 137 138 139 140]\n",
      "val_index: [  3   5   8  11  24  30  33  35  44  47  52  58  63  69  77  81  86  87\n",
      "  92  95 104 107 112 119 131 132 134 141]\n",
      "\n",
      "train_index: [  0   1   2   3   4   5   6   7   8   9  11  12  13  14  15  17  18  19\n",
      "  20  21  22  23  24  25  26  27  29  30  32  33  34  35  36  38  42  44\n",
      "  45  47  48  49  50  51  52  53  54  55  56  57  58  59  61  63  67  69\n",
      "  70  71  72  73  75  76  77  80  81  82  83  85  86  87  89  90  91  92\n",
      "  93  95  96  98  99 100 101 102 103 104 105 106 107 108 109 110 111 112\n",
      " 113 114 116 118 119 120 121 125 126 127 128 129 130 131 132 133 134 135\n",
      " 136 137 138 139 140 141]\n",
      "val_index: [ 10  16  28  31  37  39  40  41  43  46  60  62  64  65  66  68  74  78\n",
      "  79  84  88  94  97 115 117 122 123 124]\n",
      "\n",
      "train_index: [  1   3   4   5   6   7   8  10  11  12  13  14  16  17  19  20  22  23\n",
      "  24  26  28  29  30  31  33  34  35  36  37  39  40  41  42  43  44  45\n",
      "  46  47  48  50  51  52  53  54  55  57  58  59  60  61  62  63  64  65\n",
      "  66  68  69  70  71  73  74  76  77  78  79  80  81  82  84  85  86  87\n",
      "  88  89  92  94  95  97  98 100 101 102 103 104 105 106 107 108 110 111\n",
      " 112 113 115 116 117 119 121 122 123 124 125 127 129 131 132 133 134 135\n",
      " 136 137 138 139 140 141]\n",
      "val_index: [  0   2   9  15  18  21  25  27  32  38  49  56  67  72  75  83  90  91\n",
      "  93  96  99 109 114 118 120 126 128 130]\n",
      "\n"
     ]
    }
   ],
   "source": [
    "from sklearn.model_selection import KFold\n",
    "kf = KFold(n_splits=5,shuffle=True)\n",
    "for train_index, val_index in kf.split(X_train):\n",
    "    print('train_index: %s\\nval_index: %s\\n'%(train_index, val_index))"
   ]
  },
  {
   "cell_type": "code",
   "execution_count": null,
   "metadata": {},
   "outputs": [],
   "source": [
    "Here I choose Nearest Centroid Classifier as the new classifier. This classifier works more easily."
   ]
  },
  {
   "cell_type": "code",
   "execution_count": 39,
   "metadata": {},
   "outputs": [
    {
     "name": "stdout",
     "output_type": "stream",
     "text": [
      "Average accuracy of Nearest Centroid Classifier: 0.9790640394088671\n",
      "F measure of Nearest Centroid Classifier: 0.9577700720677254\n"
     ]
    }
   ],
   "source": [
    "from sklearn.neighbors import KNeighborsClassifier\n",
    "from sklearn.neighbors.nearest_centroid import NearestCentroid\n",
    "from sklearn import metrics\n",
    "\n",
    "acc = []\n",
    "clf = NearestCentroid()\n",
    "acc_total=0\n",
    "    \n",
    "count = 0\n",
    "f1_total = 0\n",
    "for train_index, val_index in kf.split(X_train):\n",
    "    X_subtrain, X_val = X_train[train_index],X_train[val_index]\n",
    "    y_subtrain, y_val = Y_train[train_index],Y_train[val_index]\n",
    "        \n",
    "    clf = NearestCentroid()\n",
    "    clf.fit(X_subtrain,y_subtrain)\n",
    "    y_hat = knn.predict(X_val)\n",
    "    f1_total += metrics.f1_score(y_val,y_hat,average='weighted')\n",
    "    acc_total += clf.score(X_val,y_val)\n",
    "    count += 1\n",
    "accuracy = acc_total/count\n",
    "acc.append(accuracy)\n",
    "f1_measure = f1_total/count\n",
    "print(\"Average accuracy of Nearest Centroid Classifier:\",accuracy)\n",
    "\n",
    "print(\"F measure of Nearest Centroid Classifier:\",f1_measure)\n",
    "\n",
    "    \n"
   ]
  },
  {
   "cell_type": "code",
   "execution_count": 41,
   "metadata": {},
   "outputs": [],
   "source": [
    "y_hat=clf.predict(X_test)  \n",
    "score=clf.score(X_test,Y_test)"
   ]
  },
  {
   "cell_type": "code",
   "execution_count": 43,
   "metadata": {},
   "outputs": [
    {
     "name": "stdout",
     "output_type": "stream",
     "text": [
      "True class= [2 1 2 1 2 3 3 2 2 1 3 2 1 1 1 2 1 3 3 2 2 2 1 1 2 2 3 1 2 2 1 2 1 3 2 2]\n",
      "Predicted class= [2 1 2 1 2 3 3 2 2 1 3 2 1 1 1 2 1 3 3 2 2 2 1 1 2 2 3 1 2 2 1 1 1 3 2 2]\n",
      "Accuracy on the test set = 0.9722222222222222\n"
     ]
    }
   ],
   "source": [
    "print('True class=',Y_test)\n",
    "print('Predicted class=',y_hat)\n",
    "print('Accuracy on the test set =',score)"
   ]
  },
  {
   "cell_type": "code",
   "execution_count": null,
   "metadata": {},
   "outputs": [],
   "source": []
  },
  {
   "cell_type": "code",
   "execution_count": null,
   "metadata": {},
   "outputs": [],
   "source": []
  }
 ],
 "metadata": {
  "kernelspec": {
   "display_name": "Python 3",
   "language": "python",
   "name": "python3"
  },
  "language_info": {
   "codemirror_mode": {
    "name": "ipython",
    "version": 3
   },
   "file_extension": ".py",
   "mimetype": "text/x-python",
   "name": "python",
   "nbconvert_exporter": "python",
   "pygments_lexer": "ipython3",
   "version": "3.6.6"
  }
 },
 "nbformat": 4,
 "nbformat_minor": 2
}
